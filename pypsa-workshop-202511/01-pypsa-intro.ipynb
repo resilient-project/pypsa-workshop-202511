{
 "cells": [
  {
   "cell_type": "markdown",
   "metadata": {},
   "source": [
    "# Introduction to `pypsa` and `linopy`: a simple dispatch problem"
   ]
  },
  {
   "cell_type": "markdown",
   "metadata": {},
   "source": [
    "<img src=\"https://github.com/fneum/data-science-for-esm/raw/main/data-science-for-esm/pypsa-logo.png\" width=\"300px\" />\n",
    "\n",
    "PyPSA stands for **Python for Power System Analysis**.\n",
    "\n",
    "PyPSA is an open source Python package for simulating and optimising modern energy systems that include features such as\n",
    "\n",
    "- conventional generators with unit commitment (ramp-up, ramp-down, start-up, shut-down),\n",
    "- time-varying wind and solar generation,\n",
    "- energy storage with efficiency losses and inflow/spillage for hydroelectricity\n",
    "- coupling to other energy sectors (electricity, transport, heat, industry),\n",
    "- conversion between energy carriers (e.g. electricity to hydrogen),\n",
    "- transmission networks (AC, DC, other fuels)\n",
    "\n",
    "PyPSA can be used for a variety of problem types (e.g. electricity market modelling, long-term investment planning, transmission network expansion planning), and is designed to scale well with large networks and long time series.\n",
    "\n",
    "Compared to building power system by hand in `linopy`, PyPSA does the following things for you:\n",
    "\n",
    "- manage data inputs\n",
    "- build optimisation problem\n",
    "- communicate with the solver\n",
    "- retrieve and process optimisation results\n",
    "- manage data outputs\n",
    "\n",
    "### Dependencies\n",
    "\n",
    "- `pandas` for storing data about network components and time series\n",
    "- `numpy` and `scipy` for linear algebra and sparse matrix calculations\n",
    "- `matplotlib` and `cartopy` for plotting on a map\n",
    "- `networkx` for network calculations\n",
    "- `linopy` for handling optimisation problems"
   ]
  },
  {
   "cell_type": "markdown",
   "metadata": {},
   "source": [
    ":::{note}\n",
    "Documentation for this package is available at https://pypsa.readthedocs.io.\n",
    ":::"
   ]
  },
  {
   "cell_type": "markdown",
   "metadata": {},
   "source": [
    ":::{note}\n",
    "If you have not yet set up Python on your computer, you can execute this tutorial in your browser via [Google Colab](https://colab.research.google.com/). Click on the rocket in the top right corner and launch \"Colab\". If that doesn't work download the `.ipynb` file and import it in [Google Colab](https://colab.research.google.com/).\n",
    "\n",
    "Then install the following packages by executing the following command in a Jupyter cell at the top of the notebook.\n",
    "\n",
    "```sh\n",
    "!pip install pypsa highspy\n",
    "```\n",
    ":::"
   ]
  },
  {
   "cell_type": "markdown",
   "metadata": {},
   "source": [
    "## Basic components"
   ]
  },
  {
   "cell_type": "markdown",
   "metadata": {},
   "source": [
    "| Component | Description |\n",
    "| --- | --- |\n",
    "| [Network](https://pypsa.readthedocs.io/en/latest/components.html#network) | Container for all components. |\n",
    "| [Bus](https://pypsa.readthedocs.io/en/latest/components.html#bus) | Node where components attach. |\n",
    "| [Carrier](https://pypsa.readthedocs.io/en/latest/components.html#carrier) | Energy carrier or technology (e.g. electricity, hydrogen, gas, coal, oil, biomass, on-/offshore wind, solar). Can track properties such as specific carbon dioxide emissions or nice names and colors for plots. |\n",
    "| [Load](https://pypsa.readthedocs.io/en/latest/components.html#load) | Energy consumer (e.g. electricity demand). |\n",
    "| [Generator](https://pypsa.readthedocs.io/en/latest/components.html#generator) | Generator (e.g. power plant, wind turbine, PV panel). |\n",
    "| [Line](https://pypsa.readthedocs.io/en/latest/components.html#line) | Power distribution and transmission lines (overhead and cables). |\n",
    "| [Link](https://pypsa.readthedocs.io/en/latest/components.html#link) | Links connect two buses with controllable energy flow, direction-control and losses. They can be used to model: <ul><li>HVDC links</li><li>HVAC lines (neglecting KVL, only net transfer capacities (NTCs))</li><li>conversion between carriers (e.g. electricity to hydrogen in electrolysis)</li></ul> |\n",
    "| [StorageUnit](https://pypsa.readthedocs.io/en/latest/components.html#storage-unit) | Storage with fixed nominal energy-to-power ratio. |\n",
    "| [Store](https://pypsa.readthedocs.io/en/latest/components.html#store) | Storage with separately extendable energy capacity. |\n",
    "| [GlobalConstraint](https://pypsa.readthedocs.io/en/latest/components.html#global-constraints) | Constraints affecting many components at once, such as emission limits. |\n",
    "\n",
    ":::{note}\n",
    "Links in the table lead to documentation for each component.\n",
    ":::\n"
   ]
  },
  {
   "cell_type": "markdown",
   "metadata": {},
   "source": [
    "## Getting started"
   ]
  },
  {
   "cell_type": "markdown",
   "metadata": {},
   "source": [
    "### Simple electricity market problem\n",
    "\n",
    "generator 1: \"gas\" -- marginal cost 70 EUR/MWh -- capacity 50 MW\n",
    "\n",
    "generator 2: \"nuclear\" -- marginal cost 10 EUR/MWh -- capacity 100 MW\n",
    "\n",
    "load: \"Consumer\" -- demand 120 MW\n",
    "\n",
    "single time step (\"now\")\n",
    "\n",
    "single node (\"Springfield\")"
   ]
  },
  {
   "cell_type": "markdown",
   "metadata": {},
   "source": [
    "### Building a basic network"
   ]
  },
  {
   "cell_type": "code",
   "execution_count": null,
   "metadata": {},
   "outputs": [],
   "source": [
    "# By convention, PyPSA is imported without an alias:\n",
    "import pypsa"
   ]
  },
  {
   "cell_type": "code",
   "execution_count": null,
   "metadata": {},
   "outputs": [],
   "source": [
    "# First, we create a network object which serves as the container for all components\n",
    "n = pypsa.Network()"
   ]
  },
  {
   "cell_type": "code",
   "execution_count": null,
   "metadata": {},
   "outputs": [],
   "source": [
    "n"
   ]
  },
  {
   "cell_type": "markdown",
   "metadata": {},
   "source": [
    "The second component we need are buses. **Buses** are the fundamental nodes of the network, to which all other components like loads, generators and transmission lines attach. They enforce energy conservation for all elements feeding in and out of it (i.e. Kirchhoff’s Current Law).\n",
    "\n",
    "Components can be added to the network `n` using the `n.add()` function. It takes the component name as a first argument, the name of the component as a second argument and possibly further parameters as keyword arguments. Let's use this function, to add buses for each country to our network:"
   ]
  },
  {
   "cell_type": "code",
   "execution_count": null,
   "metadata": {},
   "outputs": [],
   "source": [
    "n.add(\"Bus\", \"Springfield\", v_nom=380, carrier=\"AC\")"
   ]
  },
  {
   "cell_type": "markdown",
   "metadata": {},
   "source": [
    "For each class of components, the data describing the components is stored in a `pandas.DataFrame`. For example, all static data for buses is stored in `n.buses`"
   ]
  },
  {
   "cell_type": "code",
   "execution_count": null,
   "metadata": {},
   "outputs": [],
   "source": [
    "n.buses"
   ]
  },
  {
   "cell_type": "markdown",
   "metadata": {},
   "source": [
    "You see there are many more attributes than we specified while adding the buses; many of them are filled with default parameters which were added. You can look up the field description, defaults and status (required input, optional input, output) for buses here https://pypsa.readthedocs.io/en/latest/components.html#bus, and analogous for all other components."
   ]
  },
  {
   "cell_type": "markdown",
   "metadata": {},
   "source": [
    "The `n.add()` function lets you add any component to the network object `n`:"
   ]
  },
  {
   "cell_type": "code",
   "execution_count": null,
   "metadata": {},
   "outputs": [],
   "source": [
    "n.add(\n",
    "    \"Generator\",\n",
    "    \"gas\",\n",
    "    bus=\"Springfield\",\n",
    "    p_nom_extendable=False,\n",
    "    marginal_cost=70,  # €/MWh\n",
    "    p_nom=50,  # MW\n",
    ")\n",
    "n.add(\n",
    "    \"Generator\",\n",
    "    \"nuclear\",\n",
    "    bus=\"Springfield\",\n",
    "    p_nom_extendable=False,\n",
    "    marginal_cost=10,  # €/MWh\n",
    "    p_nom=100,  # MW\n",
    ")"
   ]
  },
  {
   "cell_type": "code",
   "execution_count": null,
   "metadata": {},
   "outputs": [],
   "source": []
  },
  {
   "cell_type": "markdown",
   "metadata": {},
   "source": [
    "The method `n.add()` also allows you to add multiple components at once. For instance, multiple **carriers** for the fuels with information on specific carbon dioxide emissions, a nice name, and colors for plotting. For this, the function takes the component name as the first argument and then a list of component names and then optional arguments for the parameters. Here, scalar values, lists, dictionary or `pandas.Series` are allowed. The latter two needs keys or indices with the component names."
   ]
  },
  {
   "cell_type": "markdown",
   "metadata": {},
   "source": [
    "As a result, the `n.generators` DataFrame looks like this:"
   ]
  },
  {
   "cell_type": "code",
   "execution_count": null,
   "metadata": {},
   "outputs": [],
   "source": [
    "n.generators"
   ]
  },
  {
   "cell_type": "markdown",
   "metadata": {},
   "source": [
    "Next, we're going to add the electricity demand.\n",
    "\n",
    "A positive value for `p_set` means consumption of power from the bus."
   ]
  },
  {
   "cell_type": "code",
   "execution_count": null,
   "metadata": {},
   "outputs": [],
   "source": [
    "n.add(\n",
    "    \"Load\",\n",
    "    \"Small town\",\n",
    "    bus=\"Springfield\",\n",
    "    p_set=120,  # MW\n",
    ")"
   ]
  },
  {
   "cell_type": "code",
   "execution_count": null,
   "metadata": {},
   "outputs": [],
   "source": [
    "n.loads"
   ]
  },
  {
   "cell_type": "markdown",
   "metadata": {},
   "source": [
    "## Optimisation"
   ]
  },
  {
   "cell_type": "markdown",
   "metadata": {},
   "source": [
    "The design principle of PyPSA is that basically each component is associated with a set of variables and constraints that will be added to the optimisation model based on the input data stored for the components. \n",
    "\n",
    "For this dispatch problem, PyPSA will solve an optimisation problem that looks like this\n",
    "\n",
    "\\begin{equation}\n",
    "\\min_{g_{s,t};} \\sum_{t,s} o_{s} g_{s,t}\n",
    "\\end{equation}\n",
    "such that\n",
    "\\begin{align}\n",
    "0 & \\leq g_{s,t} \\leq G_{s}  & \\text{generation limits : generator} \\\\\n",
    "D_t &= \\sum_s g_{s,t} & \\text{market clearing : bus} \\\\\n",
    "\\end{align}\n",
    "\n",
    "**Decision variables:**\n",
    "\n",
    "- $g_{s,t}$ is the generator dispatch of technology $s$ at time $t$\n",
    "\n",
    "**Parameters:**\n",
    "\n",
    "- $o_{s}$ is the marginal generation cost of technology $s$\n",
    "- $G_{s}$ is the nominal capacity of technology $s$\n",
    "- $D_t$ is the power demand in Springfiled at time $t$\n"
   ]
  },
  {
   "cell_type": "markdown",
   "metadata": {},
   "source": [
    "With all input data transferred into the PyPSA's data structure (`network`), we can now build and run the resulting optimisation problem. In PyPSA, building, solving and retrieving results from the optimisation model is contained in a single function call `n.optimize()`. This function optimizes dispatch and investment decisions for least cost adhering to the constraints defined in the network.\n",
    "\n",
    "The `n.optimize()` function can take a variety of arguments. The most relevant for the moment is the choice of the solver (e.g. \"highs\" and \"gurobi\"). They need to be installed on your computer, to use them here!"
   ]
  },
  {
   "cell_type": "code",
   "execution_count": null,
   "metadata": {},
   "outputs": [],
   "source": [
    "n.optimize(solver_name=\"highs\", assign_all_duals=True)"
   ]
  },
  {
   "cell_type": "markdown",
   "metadata": {},
   "source": [
    "Let's have a look at the results. The network object `n` contains now the objective value and the results for the decision variables."
   ]
  },
  {
   "cell_type": "code",
   "execution_count": null,
   "metadata": {},
   "outputs": [],
   "source": [
    "n.objective"
   ]
  },
  {
   "cell_type": "markdown",
   "metadata": {},
   "source": [
    "Since the power flow and dispatch are generally time-varying quantities, these are stored in a different locations than e.g. `n.generators`. They are stored in `n.generators_t`. Thus, to find out the dispatch of the generators, run"
   ]
  },
  {
   "cell_type": "code",
   "execution_count": null,
   "metadata": {},
   "outputs": [],
   "source": [
    "n.generators_t.p"
   ]
  },
  {
   "cell_type": "code",
   "execution_count": null,
   "metadata": {},
   "outputs": [],
   "source": [
    "n.buses_t.marginal_price"
   ]
  },
  {
   "cell_type": "code",
   "execution_count": null,
   "metadata": {},
   "outputs": [],
   "source": [
    "n.generators_t.mu_upper"
   ]
  },
  {
   "cell_type": "markdown",
   "metadata": {},
   "source": [
    "### Explore pypsa model"
   ]
  },
  {
   "cell_type": "code",
   "execution_count": null,
   "metadata": {},
   "outputs": [],
   "source": [
    "n.model"
   ]
  },
  {
   "cell_type": "code",
   "execution_count": null,
   "metadata": {},
   "outputs": [],
   "source": [
    "n.model.constraints"
   ]
  },
  {
   "cell_type": "code",
   "execution_count": null,
   "metadata": {},
   "outputs": [],
   "source": [
    "n.model.constraints[\"Generator-fix-p-upper\"]"
   ]
  },
  {
   "cell_type": "code",
   "execution_count": null,
   "metadata": {},
   "outputs": [],
   "source": [
    "n.model.constraints[\"Bus-nodal_balance\"]"
   ]
  },
  {
   "cell_type": "code",
   "execution_count": null,
   "metadata": {},
   "outputs": [],
   "source": [
    "n.model.objective"
   ]
  },
  {
   "cell_type": "markdown",
   "metadata": {},
   "source": [
    "### (If time allows) Let's write optimization problem manually amd reproduce the PyPSA model"
   ]
  },
  {
   "cell_type": "markdown",
   "metadata": {},
   "source": [
    "PyPSA optimisation module is based on [Linopy](https://linopy.readthedocs.io/en/latest/index.html) --- an open-source framework for formulating, solving, and analyzing optimization problems with Python.\n",
    "\n",
    "With Linopy, you can create optimization models within Python that consist of decision variables, constraints, and optimization objectives. You can then solve these instances using a variety of commercial and open-source solvers (specialised software).\n",
    "\n",
    "[Linopy](https://github.com/pypsa/linopy) supports a wide range of problem types, including:\n",
    "\n",
    "- **Linear programming**\n",
    "- Integer programming\n",
    "- Mixed-integer programming\n",
    "- Quadratic programming\n",
    "\n",
    "\n",
    ":::{note}\n",
    "Documentation for this package is available at https://linopy.readthedocs.io.\n",
    ":::"
   ]
  },
  {
   "cell_type": "code",
   "execution_count": null,
   "metadata": {},
   "outputs": [],
   "source": [
    "import linopy"
   ]
  },
  {
   "cell_type": "code",
   "execution_count": null,
   "metadata": {},
   "outputs": [],
   "source": [
    "# remove all constraints\n",
    "for name in list(n.model.constraints):\n",
    "    n.model.remove_constraints(name)"
   ]
  },
  {
   "cell_type": "code",
   "execution_count": null,
   "metadata": {},
   "outputs": [],
   "source": [
    "n.model.constraints"
   ]
  },
  {
   "cell_type": "code",
   "execution_count": null,
   "metadata": {},
   "outputs": [],
   "source": [
    "n.model.add_constraints(\n",
    "    n.model[\"Generator-p\"].sum(dim=\"Generator\") == n.loads.p_set[\"Small town\"],\n",
    "    name=\"nodal_balance\",\n",
    ")"
   ]
  },
  {
   "cell_type": "code",
   "execution_count": null,
   "metadata": {},
   "outputs": [],
   "source": [
    "n.model.add_constraints(n.model[\"Generator-p\"].loc[:, \"gas\"] >= 0, name=\"p_lower_gas\")"
   ]
  },
  {
   "cell_type": "code",
   "execution_count": null,
   "metadata": {},
   "outputs": [],
   "source": [
    "n.model.add_constraints(\n",
    "    n.model[\"Generator-p\"].loc[:, \"nuclear\"] >= 0, name=\"p_lower_coal\"\n",
    ")"
   ]
  },
  {
   "cell_type": "code",
   "execution_count": null,
   "metadata": {},
   "outputs": [],
   "source": [
    "n.model.add_constraints(\n",
    "    n.model[\"Generator-p\"].loc[:, \"gas\"] <= n.generators.p_nom.loc[\"gas\"],\n",
    "    name=\"p_upper_gas\",\n",
    ")"
   ]
  },
  {
   "cell_type": "code",
   "execution_count": null,
   "metadata": {},
   "outputs": [],
   "source": [
    "n.model.add_constraints(\n",
    "    n.model[\"Generator-p\"].loc[:, \"nuclear\"] <= n.generators.p_nom.loc[\"nuclear\"],\n",
    "    name=\"p_upper_nuclear\",\n",
    ")"
   ]
  },
  {
   "cell_type": "code",
   "execution_count": null,
   "metadata": {},
   "outputs": [],
   "source": [
    "# check that we did a good job\n",
    "n.model.constraints"
   ]
  },
  {
   "cell_type": "markdown",
   "metadata": {},
   "source": [
    "Let's ensure that we get the same results as when using the `n.optimize()` function"
   ]
  },
  {
   "cell_type": "code",
   "execution_count": null,
   "metadata": {},
   "outputs": [],
   "source": [
    "n.model.solve(solver_name=\"highs\")"
   ]
  },
  {
   "cell_type": "code",
   "execution_count": null,
   "metadata": {},
   "outputs": [],
   "source": [
    "n.generators_t.p"
   ]
  }
 ],
 "metadata": {
  "kernelspec": {
   "display_name": "workshop-dtu",
   "language": "python",
   "name": "python3"
  },
  "language_info": {
   "codemirror_mode": {
    "name": "ipython",
    "version": 3
   },
   "file_extension": ".py",
   "mimetype": "text/x-python",
   "name": "python",
   "nbconvert_exporter": "python",
   "pygments_lexer": "ipython3",
   "version": "3.12.0"
  }
 },
 "nbformat": 4,
 "nbformat_minor": 4
}
